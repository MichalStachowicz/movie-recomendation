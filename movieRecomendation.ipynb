{
 "cells": [
  {
   "cell_type": "code",
   "execution_count": 99,
   "metadata": {
    "collapsed": true
   },
   "outputs": [],
   "source": [
    "from pyspark.sql import SparkSession\n",
    "import pandas as pd\n",
    "import numpy as np\n",
    "import warnings\n",
    "warnings.filterwarnings(\"ignore\")"
   ]
  },
  {
   "cell_type": "markdown",
   "source": [
    "### Upload data"
   ],
   "metadata": {
    "collapsed": false
   }
  },
  {
   "cell_type": "code",
   "execution_count": 100,
   "outputs": [
    {
     "name": "stderr",
     "output_type": "stream",
     "text": [
      "                                                                                \r"
     ]
    }
   ],
   "source": [
    "spark = SparkSession.builder.appName('MovieRec').getOrCreate()\n",
    "movieRatings = spark.read.csv('ratings.dat',sep='::', inferSchema=True)\n",
    "df_movies = pd.read_csv('movies.dat', sep='::', names = ['movieId', 'title', 'genre'])"
   ],
   "metadata": {
    "collapsed": false,
    "pycharm": {
     "name": "#%%\n"
    }
   }
  },
  {
   "cell_type": "code",
   "execution_count": 101,
   "outputs": [],
   "source": [
    "movieRatings = movieRatings.selectExpr('_c0 as userId', '_c1 as movieId','_c2 as rating', '_c3 as timestamp')"
   ],
   "metadata": {
    "collapsed": false,
    "pycharm": {
     "name": "#%%\n"
    }
   }
  },
  {
   "cell_type": "code",
   "execution_count": 102,
   "outputs": [],
   "source": [
    "movieRatings = movieRatings.drop('timestamp')"
   ],
   "metadata": {
    "collapsed": false,
    "pycharm": {
     "name": "#%%\n"
    }
   }
  },
  {
   "cell_type": "code",
   "execution_count": 103,
   "outputs": [],
   "source": [
    "train, test = movieRatings.randomSplit([0.8,0.2])"
   ],
   "metadata": {
    "collapsed": false,
    "pycharm": {
     "name": "#%%\n"
    }
   }
  },
  {
   "cell_type": "markdown",
   "source": [
    "### Create ALS Model"
   ],
   "metadata": {
    "collapsed": false,
    "pycharm": {
     "name": "#%% md\n"
    }
   }
  },
  {
   "cell_type": "code",
   "execution_count": 104,
   "outputs": [],
   "source": [
    "from pyspark.ml.recommendation import ALS\n",
    "from pyspark.ml.evaluation import RegressionEvaluator"
   ],
   "metadata": {
    "collapsed": false,
    "pycharm": {
     "name": "#%%\n"
    }
   }
  },
  {
   "cell_type": "code",
   "execution_count": 105,
   "outputs": [],
   "source": [
    "als = ALS(userCol='userId', itemCol='movieId', ratingCol='rating',\n",
    "          coldStartStrategy='drop', nonnegative=True)"
   ],
   "metadata": {
    "collapsed": false,
    "pycharm": {
     "name": "#%%\n"
    }
   }
  },
  {
   "cell_type": "code",
   "execution_count": 106,
   "outputs": [],
   "source": [
    "evaluator = RegressionEvaluator(metricName='rmse', labelCol='rating',\n",
    "                                predictionCol='prediction')"
   ],
   "metadata": {
    "collapsed": false,
    "pycharm": {
     "name": "#%%\n"
    }
   }
  },
  {
   "cell_type": "code",
   "execution_count": 107,
   "outputs": [
    {
     "name": "stderr",
     "output_type": "stream",
     "text": [
      "                                                                                \r"
     ]
    }
   ],
   "source": [
    "model = als.fit(train)"
   ],
   "metadata": {
    "collapsed": false,
    "pycharm": {
     "name": "#%%\n"
    }
   }
  },
  {
   "cell_type": "code",
   "execution_count": 108,
   "outputs": [],
   "source": [
    "predictions = model.transform(test)"
   ],
   "metadata": {
    "collapsed": false,
    "pycharm": {
     "name": "#%%\n"
    }
   }
  },
  {
   "cell_type": "code",
   "source": [
    "rmse = evaluator.evaluate(predictions)\n",
    "rmse"
   ],
   "metadata": {
    "collapsed": false,
    "pycharm": {
     "name": "#%%\n"
    }
   },
   "execution_count": 109,
   "outputs": [
    {
     "name": "stderr",
     "output_type": "stream",
     "text": [
      "                                                                                \r"
     ]
    },
    {
     "data": {
      "text/plain": "0.8236631704100738"
     },
     "execution_count": 109,
     "metadata": {},
     "output_type": "execute_result"
    }
   ]
  },
  {
   "cell_type": "code",
   "execution_count": 110,
   "outputs": [
    {
     "name": "stderr",
     "output_type": "stream",
     "text": [
      "[Stage 1060:===================================================>(199 + 1) / 200]\r"
     ]
    },
    {
     "name": "stdout",
     "output_type": "stream",
     "text": [
      "+------+-------+------+----------+\n",
      "|userId|movieId|rating|prediction|\n",
      "+------+-------+------+----------+\n",
      "|     1|    356|   5.0|  5.347277|\n",
      "|     1|    594|   5.0|  4.664404|\n",
      "|     1|    292|   5.0|  4.947699|\n",
      "|     2|    802|   2.0| 3.2250655|\n",
      "|     2|   1544|   3.0| 2.6198363|\n",
      "|     2|   1391|   3.0| 1.7677895|\n",
      "|     2|    376|   3.0|   2.86801|\n",
      "|     2|   1210|   4.0| 3.2033632|\n",
      "|     2|    260|   5.0| 3.3304393|\n",
      "|     3|   1288|   3.0| 3.5263023|\n",
      "|     3|   5299|   3.0| 3.9305263|\n",
      "|     3|   7155|   3.5|  4.045279|\n",
      "|     3|   4677|   4.0| 3.0889623|\n",
      "|     3|   8529|   4.0| 3.7624245|\n",
      "|     3|   4995|   4.5|  4.154476|\n",
      "|     3|   1564|   4.5| 3.9158115|\n",
      "|     4|    344|   2.0|  2.579411|\n",
      "|     4|     21|   3.0| 3.8406863|\n",
      "|     4|    349|   3.0|  4.399834|\n",
      "|     4|    380|   3.0| 4.1321015|\n",
      "+------+-------+------+----------+\n",
      "only showing top 20 rows\n",
      "\n"
     ]
    },
    {
     "name": "stderr",
     "output_type": "stream",
     "text": [
      "                                                                                \r"
     ]
    }
   ],
   "source": [
    "predictions.sort('userId','rating').show()"
   ],
   "metadata": {
    "collapsed": false,
    "pycharm": {
     "name": "#%%\n"
    }
   }
  },
  {
   "cell_type": "markdown",
   "source": [
    "### Generate Recomendations for all Users\n",
    "Resturns top 5 recomendations"
   ],
   "metadata": {
    "collapsed": false,
    "pycharm": {
     "name": "#%% md\n"
    }
   }
  },
  {
   "cell_type": "code",
   "execution_count": 111,
   "outputs": [],
   "source": [
    "user_recomendations = model.recommendForAllUsers(5)"
   ],
   "metadata": {
    "collapsed": false,
    "pycharm": {
     "name": "#%%\n"
    }
   }
  },
  {
   "cell_type": "code",
   "execution_count": 112,
   "outputs": [
    {
     "name": "stderr",
     "output_type": "stream",
     "text": [
      "[Stage 1084:==================================================>  (96 + 4) / 100]\r"
     ]
    },
    {
     "name": "stdout",
     "output_type": "stream",
     "text": [
      "+------+----------------------------------------------------------------------------------------------------+\n",
      "|userId|recommendations                                                                                     |\n",
      "+------+----------------------------------------------------------------------------------------------------+\n",
      "|148   |[{61742, 5.8244677}, {4454, 5.496298}, {42783, 5.388434}, {64280, 5.388434}, {33264, 5.304997}]     |\n",
      "|463   |[{61742, 4.8351474}, {32657, 4.7572403}, {32090, 4.5386877}, {4454, 4.4550314}, {64197, 4.419184}]  |\n",
      "|471   |[{5950, 5.759638}, {59655, 5.737817}, {32444, 5.3829975}, {7370, 5.342672}, {7140, 5.177517}]       |\n",
      "|496   |[{61742, 5.656532}, {32444, 5.527679}, {64197, 5.0124598}, {53883, 4.9652433}, {8794, 4.915106}]    |\n",
      "|833   |[{61742, 5.5502944}, {32657, 5.19999}, {64280, 5.102018}, {42783, 5.102018}, {64197, 5.015974}]     |\n",
      "|1088  |[{61742, 4.755621}, {64280, 4.5944195}, {42783, 4.5944195}, {33264, 4.3024173}, {32657, 4.29546}]   |\n",
      "|1238  |[{61742, 4.840459}, {32657, 4.805584}, {4454, 4.75082}, {64280, 4.5948057}, {42783, 4.5948057}]     |\n",
      "|1342  |[{61742, 5.6076465}, {42783, 5.1368184}, {64280, 5.1368184}, {64197, 5.0344143}, {53883, 4.9862914}]|\n",
      "|1580  |[{61742, 5.2850904}, {64280, 5.219642}, {42783, 5.219642}, {53883, 4.7877307}, {64197, 4.773409}]   |\n",
      "|1591  |[{5950, 6.6847467}, {32444, 6.243756}, {65133, 5.8606286}, {7370, 5.855471}, {62834, 5.838755}]     |\n",
      "|1645  |[{61742, 5.2051573}, {4454, 5.1100345}, {42783, 4.931352}, {64280, 4.931352}, {32657, 4.861052}]    |\n",
      "|1829  |[{65133, 5.219767}, {32444, 5.128317}, {7140, 5.1276693}, {7370, 5.1048565}, {6914, 5.102977}]      |\n",
      "|1959  |[{61742, 4.835161}, {4454, 4.449823}, {7140, 4.4043593}, {32444, 4.3194313}, {64197, 4.306351}]     |\n",
      "|2122  |[{61742, 4.2292113}, {42783, 4.1452694}, {64280, 4.1452694}, {4454, 3.9322355}, {33264, 3.8175888}] |\n",
      "|2142  |[{61742, 4.5679383}, {32444, 4.06012}, {25975, 4.0330515}, {53883, 4.023548}, {32090, 4.0219226}]   |\n",
      "|2366  |[{32444, 6.107343}, {61742, 5.7298555}, {4454, 5.524819}, {7144, 5.262937}, {7140, 5.1907063}]      |\n",
      "|2659  |[{7140, 5.3104935}, {7370, 5.1981735}, {32444, 4.796564}, {65133, 4.783073}, {61742, 4.666046}]     |\n",
      "|2866  |[{61742, 5.0305037}, {60983, 4.8061275}, {53883, 4.749593}, {42783, 4.7333274}, {64280, 4.7333274}] |\n",
      "|3175  |[{4454, 5.3902674}, {61742, 5.256306}, {33264, 5.1488347}, {8458, 5.147783}, {1787, 5.1158943}]     |\n",
      "|3749  |[{61742, 5.2380457}, {64280, 5.091162}, {42783, 5.091162}, {32657, 5.0463276}, {33264, 4.738889}]   |\n",
      "+------+----------------------------------------------------------------------------------------------------+\n",
      "only showing top 20 rows\n",
      "\n"
     ]
    },
    {
     "name": "stderr",
     "output_type": "stream",
     "text": [
      "                                                                                \r"
     ]
    }
   ],
   "source": [
    "user_recomendations.show(truncate=False)"
   ],
   "metadata": {
    "collapsed": false,
    "pycharm": {
     "name": "#%%\n"
    }
   }
  },
  {
   "cell_type": "markdown",
   "source": [
    "Input user ID"
   ],
   "metadata": {
    "collapsed": false,
    "pycharm": {
     "name": "#%% md\n"
    }
   }
  },
  {
   "cell_type": "code",
   "execution_count": 113,
   "outputs": [],
   "source": [
    "ID = 1088"
   ],
   "metadata": {
    "collapsed": false,
    "pycharm": {
     "name": "#%%\n"
    }
   }
  },
  {
   "cell_type": "code",
   "execution_count": 114,
   "outputs": [],
   "source": [
    "def recomendations_user(id):\n",
    "    user = user_recomendations.filter(f'userId == {id}')\n",
    "    recom = user.select('recommendations.movieId', 'recommendations.rating')\n",
    "    movies = np.array(recom.select('movieId').collect())\n",
    "    rating = np.array(recom.select('rating').collect())\n",
    "    df = pd.DataFrame({'movieId': movies[0][0], 'rating': rating[0][0]})\n",
    "    df = pd.merge(df, df_movies,left_on='movieId', right_on='movieId')\n",
    "    return df"
   ],
   "metadata": {
    "collapsed": false,
    "pycharm": {
     "name": "#%%\n"
    }
   }
  },
  {
   "cell_type": "code",
   "execution_count": 115,
   "outputs": [
    {
     "name": "stderr",
     "output_type": "stream",
     "text": [
      "                                                                                \r"
     ]
    },
    {
     "data": {
      "text/plain": "   movieId    rating                                              title  \\\n0    61742  4.755621                       Maradona by Kusturica (2008)   \n1    64280  4.594419                                    Hospital (1970)   \n2    42783  4.594419              Shadows of Forgotten Ancestors (1964)   \n3    33264  4.302417                  Satan's Tango (Sátántangó) (1994)   \n4    32657  4.295460  Man Who Planted Trees, The (Homme qui plantait...   \n\n             genre  \n0      Documentary  \n1      Documentary  \n2    Drama|Romance  \n3            Drama  \n4  Animation|Drama  ",
      "text/html": "<div>\n<style scoped>\n    .dataframe tbody tr th:only-of-type {\n        vertical-align: middle;\n    }\n\n    .dataframe tbody tr th {\n        vertical-align: top;\n    }\n\n    .dataframe thead th {\n        text-align: right;\n    }\n</style>\n<table border=\"1\" class=\"dataframe\">\n  <thead>\n    <tr style=\"text-align: right;\">\n      <th></th>\n      <th>movieId</th>\n      <th>rating</th>\n      <th>title</th>\n      <th>genre</th>\n    </tr>\n  </thead>\n  <tbody>\n    <tr>\n      <th>0</th>\n      <td>61742</td>\n      <td>4.755621</td>\n      <td>Maradona by Kusturica (2008)</td>\n      <td>Documentary</td>\n    </tr>\n    <tr>\n      <th>1</th>\n      <td>64280</td>\n      <td>4.594419</td>\n      <td>Hospital (1970)</td>\n      <td>Documentary</td>\n    </tr>\n    <tr>\n      <th>2</th>\n      <td>42783</td>\n      <td>4.594419</td>\n      <td>Shadows of Forgotten Ancestors (1964)</td>\n      <td>Drama|Romance</td>\n    </tr>\n    <tr>\n      <th>3</th>\n      <td>33264</td>\n      <td>4.302417</td>\n      <td>Satan's Tango (Sátántangó) (1994)</td>\n      <td>Drama</td>\n    </tr>\n    <tr>\n      <th>4</th>\n      <td>32657</td>\n      <td>4.295460</td>\n      <td>Man Who Planted Trees, The (Homme qui plantait...</td>\n      <td>Animation|Drama</td>\n    </tr>\n  </tbody>\n</table>\n</div>"
     },
     "execution_count": 115,
     "metadata": {},
     "output_type": "execute_result"
    }
   ],
   "source": [
    "recomendations_user(ID)"
   ],
   "metadata": {
    "collapsed": false,
    "pycharm": {
     "name": "#%%\n"
    }
   }
  }
 ],
 "metadata": {
  "kernelspec": {
   "display_name": "Python 3",
   "language": "python",
   "name": "python3"
  },
  "language_info": {
   "codemirror_mode": {
    "name": "ipython",
    "version": 2
   },
   "file_extension": ".py",
   "mimetype": "text/x-python",
   "name": "python",
   "nbconvert_exporter": "python",
   "pygments_lexer": "ipython2",
   "version": "2.7.6"
  }
 },
 "nbformat": 4,
 "nbformat_minor": 0
}